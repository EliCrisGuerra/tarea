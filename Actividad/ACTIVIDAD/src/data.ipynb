{
 "cells": [
  {
   "cell_type": "code",
   "execution_count": null,
   "metadata": {},
   "outputs": [
    {
     "name": "stdout",
     "output_type": "stream",
     "text": [
      "   Granadilla  Tomates\n",
      "0          20       50\n"
     ]
    }
   ],
   "source": [
    "import pandas as pd\n",
    "\n",
    "# punto 1 \n",
    "\n",
    "frutas = pd.DataFrame({\n",
    "    \"Granadilla\": [20],\n",
    "    \"Tomates\": [50]\n",
    "}, index=[0])\n",
    "\n",
    "print(frutas)\n"
   ]
  },
  {
   "cell_type": "code",
   "execution_count": null,
   "metadata": {},
   "outputs": [
    {
     "name": "stdout",
     "output_type": "stream",
     "text": [
      "El dataframe tiene 129971 entradas.\n"
     ]
    }
   ],
   "source": [
    "\n",
    "\n",
    "# Cargar el dataset en un DataFrame llamado review\n",
    "review = pd.read_csv('winemag-data-130k-v2.csv')\n",
    "\n"
   ]
  },
  {
   "cell_type": "code",
   "execution_count": null,
   "metadata": {},
   "outputs": [
    {
     "name": "stdout",
     "output_type": "stream",
     "text": [
      "   Unnamed: 0   country                                        description  \\\n",
      "0           0     Italy  Aromas include tropical fruit, broom, brimston...   \n",
      "1           1  Portugal  This is ripe and fruity, a wine that is smooth...   \n",
      "2           2        US  Tart and snappy, the flavors of lime flesh and...   \n",
      "3           3        US  Pineapple rind, lemon pith and orange blossom ...   \n",
      "4           4        US  Much like the regular bottling from 2012, this...   \n",
      "5           5     Spain  Blackberry and raspberry aromas show a typical...   \n",
      "6           6     Italy  Here's a bright, informal red that opens with ...   \n",
      "7           7    France  This dry and restrained wine offers spice in p...   \n",
      "8           8   Germany  Savory dried thyme notes accent sunnier flavor...   \n",
      "9           9    France  This has great depth of flavor with its fresh ...   \n",
      "\n",
      "                          designation  points  price           province  \\\n",
      "0                        Vulkà Bianco      87    NaN  Sicily & Sardinia   \n",
      "1                            Avidagos      87   15.0              Douro   \n",
      "2                                 NaN      87   14.0             Oregon   \n",
      "3                Reserve Late Harvest      87   13.0           Michigan   \n",
      "4  Vintner's Reserve Wild Child Block      87   65.0             Oregon   \n",
      "5                        Ars In Vitro      87   15.0     Northern Spain   \n",
      "6                             Belsito      87   16.0  Sicily & Sardinia   \n",
      "7                                 NaN      87   24.0             Alsace   \n",
      "8                               Shine      87   12.0        Rheinhessen   \n",
      "9                         Les Natures      87   27.0             Alsace   \n",
      "\n",
      "              region_1           region_2         taster_name  \\\n",
      "0                 Etna                NaN       Kerin O’Keefe   \n",
      "1                  NaN                NaN          Roger Voss   \n",
      "2    Willamette Valley  Willamette Valley        Paul Gregutt   \n",
      "3  Lake Michigan Shore                NaN  Alexander Peartree   \n",
      "4    Willamette Valley  Willamette Valley        Paul Gregutt   \n",
      "5              Navarra                NaN   Michael Schachner   \n",
      "6             Vittoria                NaN       Kerin O’Keefe   \n",
      "7               Alsace                NaN          Roger Voss   \n",
      "8                  NaN                NaN  Anna Lee C. Iijima   \n",
      "9               Alsace                NaN          Roger Voss   \n",
      "\n",
      "  taster_twitter_handle                                              title  \\\n",
      "0          @kerinokeefe                  Nicosia 2013 Vulkà Bianco  (Etna)   \n",
      "1            @vossroger      Quinta dos Avidagos 2011 Avidagos Red (Douro)   \n",
      "2           @paulgwine       Rainstorm 2013 Pinot Gris (Willamette Valley)   \n",
      "3                   NaN  St. Julian 2013 Reserve Late Harvest Riesling ...   \n",
      "4           @paulgwine   Sweet Cheeks 2012 Vintner's Reserve Wild Child...   \n",
      "5           @wineschach  Tandem 2011 Ars In Vitro Tempranillo-Merlot (N...   \n",
      "6          @kerinokeefe   Terre di Giurfo 2013 Belsito Frappato (Vittoria)   \n",
      "7            @vossroger              Trimbach 2012 Gewurztraminer (Alsace)   \n",
      "8                   NaN  Heinz Eifel 2013 Shine Gewürztraminer (Rheinhe...   \n",
      "9            @vossroger  Jean-Baptiste Adam 2012 Les Natures Pinot Gris...   \n",
      "\n",
      "              variety               winery  \n",
      "0         White Blend              Nicosia  \n",
      "1      Portuguese Red  Quinta dos Avidagos  \n",
      "2          Pinot Gris            Rainstorm  \n",
      "3            Riesling           St. Julian  \n",
      "4          Pinot Noir         Sweet Cheeks  \n",
      "5  Tempranillo-Merlot               Tandem  \n",
      "6            Frappato      Terre di Giurfo  \n",
      "7      Gewürztraminer             Trimbach  \n",
      "8      Gewürztraminer          Heinz Eifel  \n",
      "9          Pinot Gris   Jean-Baptiste Adam  \n"
     ]
    }
   ],
   "source": [
    "# Verificar las primeras filas\n",
    "print(review.head())"
   ]
  },
  {
   "cell_type": "code",
   "execution_count": 29,
   "metadata": {},
   "outputs": [
    {
     "name": "stdout",
     "output_type": "stream",
     "text": [
      "El dataframe tiene 129971 entradas.\n"
     ]
    }
   ],
   "source": [
    "\n",
    "#Utiliza el método .info() para averiguar cuántas entradas hay. ¿Cuántas encontraste?\n",
    "\n",
    "num_filas = review.shape[0]\n",
    "print(f\"El dataframe tiene {num_filas} entradas.\")\n"
   ]
  },
  {
   "cell_type": "code",
   "execution_count": null,
   "metadata": {},
   "outputs": [
    {
     "name": "stdout",
     "output_type": "stream",
     "text": [
      "El precio promedio es: 35.36\n"
     ]
    }
   ],
   "source": [
    "#¿Cuál es el precio promedio? \n",
    "\n",
    "precio_promedio = review[\"price\"].mean()\n",
    "print(f\"El precio promedio es: {precio_promedio:.2f}\")\n"
   ]
  },
  {
   "cell_type": "code",
   "execution_count": 28,
   "metadata": {},
   "outputs": [
    {
     "name": "stdout",
     "output_type": "stream",
     "text": [
      "El precio más alto pagado es: 3300.0\n"
     ]
    }
   ],
   "source": [
    "#¿Cuál es el precio más alto pagado?\n",
    "\n",
    "precio_maximo = review[\"price\"].max()\n",
    "print(f\"El precio más alto pagado es: {precio_maximo}\")\n"
   ]
  },
  {
   "cell_type": "code",
   "execution_count": null,
   "metadata": {},
   "outputs": [],
   "source": [
    "# Crea un DataFrame con todos los vinos de california.\n",
    "\n",
    "california_wines = review[review[\"province\"] == \"California\"]\n",
    "print(california_wines.head())\n"
   ]
  },
  {
   "cell_type": "code",
   "execution_count": 25,
   "metadata": {},
   "outputs": [
    {
     "name": "stdout",
     "output_type": "stream",
     "text": [
      "El vino más caro de California es:\n",
      "Unnamed: 0                                                          120391\n",
      "country                                                                 US\n",
      "description              The nose on this single-vineyard wine from a s...\n",
      "designation                                            Roger Rose Vineyard\n",
      "points                                                                  91\n",
      "price                                                               2013.0\n",
      "province                                                        California\n",
      "region_1                                                       Arroyo Seco\n",
      "region_2                                                     Central Coast\n",
      "taster_name                                                  Matt Kettmann\n",
      "taster_twitter_handle                                        @mattkettmann\n",
      "title                    Blair 2013 Roger Rose Vineyard Chardonnay (Arr...\n",
      "variety                                                         Chardonnay\n",
      "winery                                                               Blair\n",
      "Name: 120391, dtype: object\n"
     ]
    }
   ],
   "source": [
    "# Obtener el índice del vino con el precio más alto\n",
    "indice_max_precio = california_wines[\"price\"].idxmax()\n",
    "\n",
    "# Obtener toda la información del vino más caro\n",
    "vino_mas_caro = california_wines.loc[indice_max_precio]\n",
    "\n",
    "print(\"El vino más caro de California es:\")\n",
    "print(vino_mas_caro)"
   ]
  },
  {
   "cell_type": "code",
   "execution_count": 26,
   "metadata": {},
   "outputs": [
    {
     "name": "stdout",
     "output_type": "stream",
     "text": [
      "Los tipos de uva más comunes en California son:\n",
      "variety\n",
      "Pinot Noir             6896\n",
      "Cabernet Sauvignon     5693\n",
      "Chardonnay             5183\n",
      "Zinfandel              2639\n",
      "Syrah                  1870\n",
      "                       ... \n",
      "Prosecco                  1\n",
      "Tannat-Syrah              1\n",
      "Rosado                    1\n",
      "Muscat d'Alexandrie       1\n",
      "Alvarinho                 1\n",
      "Name: count, Length: 194, dtype: int64\n"
     ]
    }
   ],
   "source": [
    "# Contar cuántos vinos hay por tipo de uva en California\n",
    "uvas_mas_comunes = california_wines[\"variety\"].value_counts()\n",
    "\n",
    "print(\"Los tipos de uva más comunes en California son:\")\n",
    "print(uvas_mas_comunes)\n"
   ]
  },
  {
   "cell_type": "code",
   "execution_count": 27,
   "metadata": {},
   "outputs": [
    {
     "name": "stdout",
     "output_type": "stream",
     "text": [
      "variety\n",
      "Pinot Noir                  6896\n",
      "Cabernet Sauvignon          5693\n",
      "Chardonnay                  5183\n",
      "Zinfandel                   2639\n",
      "Syrah                       1870\n",
      "Sauvignon Blanc             1807\n",
      "Red Blend                   1804\n",
      "Merlot                      1391\n",
      "Bordeaux-style Red Blend     876\n",
      "Petite Sirah                 694\n",
      "Name: count, dtype: int64\n"
     ]
    }
   ],
   "source": [
    "#¿Cuáles son los 10 tipos de uva más comunes en California?\n",
    "print(uvas_mas_comunes.head(10))\n"
   ]
  },
  {
   "cell_type": "code",
   "execution_count": null,
   "metadata": {},
   "outputs": [
    {
     "name": "stdout",
     "output_type": "stream",
     "text": [
      "             Granadilla  Tomates\n",
      "ventas 2021          20       50\n",
      "ventas 2022          49      100\n"
     ]
    }
   ],
   "source": [
    "\n",
    "#punto 2\n",
    "\n",
    "ventas_frutas = pd.DataFrame({\n",
    "    \"Granadilla\": [20, 49],\n",
    "    \"Tomates\": [50, 100]\n",
    "}, index=[\"ventas 2021\", \"ventas 2022\"])\n",
    "\n",
    "print(ventas_frutas)\n"
   ]
  },
  {
   "cell_type": "code",
   "execution_count": null,
   "metadata": {},
   "outputs": [
    {
     "name": "stdout",
     "output_type": "stream",
     "text": [
      "Cuchara     3 unidades\n",
      "Tenedor     2 unidades\n",
      "Cuchillo    4 unidades\n",
      "Plato       5 unidades\n",
      "Name: Cocina, dtype: object\n"
     ]
    }
   ],
   "source": [
    "#punto 3\n",
    "\n",
    "utensilios = pd.Series({\n",
    "    'Cuchara': '3 unidades',\n",
    "    'Tenedor': '2 unidades',\n",
    "    'Cuchillo': '4 unidades',\n",
    "    'Plato': '5 unidades'\n",
    "}, name='Cocina')\n",
    "\n",
    "print(utensilios)"
   ]
  }
 ],
 "metadata": {
  "kernelspec": {
   "display_name": "Python 3",
   "language": "python",
   "name": "python3"
  },
  "language_info": {
   "codemirror_mode": {
    "name": "ipython",
    "version": 3
   },
   "file_extension": ".py",
   "mimetype": "text/x-python",
   "name": "python",
   "nbconvert_exporter": "python",
   "pygments_lexer": "ipython3",
   "version": "3.9.2"
  }
 },
 "nbformat": 4,
 "nbformat_minor": 2
}
